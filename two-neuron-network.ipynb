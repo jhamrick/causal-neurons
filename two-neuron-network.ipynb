{
 "metadata": {
  "name": "two-neuron-network"
 },
 "nbformat": 3,
 "nbformat_minor": 0,
 "worksheets": [
  {
   "cells": [
    {
     "cell_type": "code",
     "collapsed": false,
     "input": [
      "import numpy as np"
     ],
     "language": "python",
     "outputs": [],
     "prompt_number": 1
    },
    {
     "cell_type": "code",
     "collapsed": false,
     "input": [
      "nsteps = 100\n",
      "axx = 1.\n",
      "axy = 2.\n",
      "ayx = .2\n",
      "ayy = 1."
     ],
     "language": "python",
     "outputs": [],
     "prompt_number": 102
    },
    {
     "cell_type": "code",
     "collapsed": false,
     "input": [
      "zx = np.random.randn(nsteps) / 2.\n",
      "zy = np.random.randn(nsteps) / 2.\n",
      "\n",
      "wxx = -20.\n",
      "wxy = 1.\n",
      "wyx = -0.5\n",
      "wyy = -10.\n",
      "\n",
      "xv = np.zeros(nsteps)\n",
      "xxd = np.zeros(nsteps)\n",
      "xyd = np.zeros(nsteps)\n",
      "x = np.zeros(nsteps)\n",
      "\n",
      "yv = np.zeros(nsteps)\n",
      "yxd = np.zeros(nsteps)\n",
      "yyd = np.zeros(nsteps)\n",
      "y = np.zeros(nsteps)"
     ],
     "language": "python",
     "outputs": [],
     "prompt_number": 107
    },
    {
     "cell_type": "code",
     "collapsed": false,
     "input": [
      "plt.figure(1)\n",
      "plt.clf()\n",
      "plt.subplot(221)\n",
      "plt.xlim(0, nsteps-1)\n",
      "plt.ylim(-1, 1)\n",
      "plt.plot(np.arange(nsteps), zx, 'k')\n",
      "plt.subplot(222)\n",
      "plt.xlim(0, nsteps-1)\n",
      "plt.ylim(-1, 1)\n",
      "plt.plot(np.arange(nsteps), zy, 'k')\n",
      "plt.subplot(223)\n",
      "plt.xlim(0, nsteps-1)\n",
      "plt.ylim(-1, 1)\n",
      "plt.subplot(224)\n",
      "plt.xlim(0, nsteps-1)\n",
      "plt.ylim(-1, 1)\n",
      "plt.show()\n",
      "plt.draw()\n",
      "plt.draw()"
     ],
     "language": "python",
     "outputs": [],
     "prompt_number": 108
    },
    {
     "cell_type": "code",
     "collapsed": false,
     "input": [
      "for t in xrange(nsteps-1):\n",
      "    xv[t+1] = zx[t] + xxd[t] + yxd[t]\n",
      "    yv[t+1] = zy[t] + xyd[t] + yyd[t]\n",
      "\n",
      "    sl = slice(max(0, t-10), t+1)\n",
      "    nt = x[sl].size - 1\n",
      "    xf = np.nonzero(x[sl] == 1)[0]\n",
      "    yf = np.nonzero(y[sl] == 1)[0]\n",
      "    xxd[t+1] = wxx*np.sum(np.exp(-axx*(nt-np.nonzero(x[sl] == 1)[0])))\n",
      "    yxd[t+1] = wyx*np.sum(np.exp(-ayx*(nt-np.nonzero(y[sl] == 1)[0])))\n",
      "    xyd[t+1] = wxy*np.sum(np.exp(-axy*(nt-np.nonzero(x[sl] == 1)[0])))\n",
      "    yyd[t+1] = wyy*np.sum(np.exp(-ayy*(nt-np.nonzero(y[sl] == 1)[0])))\n",
      "    \n",
      "    if xv[t] > 0.5 and yv[t] > 0.5:\n",
      "        xfirst = np.random.rand() > 0.5\n",
      "        print xfirst\n",
      "    else:\n",
      "        xfirst = True\n",
      "    \n",
      "    if xv[t] > 0.5 and xfirst:\n",
      "        x[t+1] = 1\n",
      "        xv[t+1] = 0\n",
      "\n",
      "    elif yv[t] > 0.5:\n",
      "        y[t+1] = 1\n",
      "        yv[t+1] = 0\n",
      "\n",
      "    # print t\n",
      "    # print z[t]\n",
      "    # print xd[t+1], xv[t+1], x[t+1]\n",
      "    # print yd[t+1], yv[t+1], y[t+1]\n",
      "    # print\n",
      "\n",
      "    tv = [t, t+1]\n",
      "    plt.subplot(223)\n",
      "    plt.plot(tv, x[t:t+2], 'r-')\n",
      "    plt.plot(tv, xv[t:t+2], 'r--')\n",
      "    plt.subplot(224)\n",
      "    plt.plot(tv, y[t:t+2], 'b-')\n",
      "    plt.plot(tv, yv[t:t+2], 'b--')\n",
      "    plt.draw() \n",
      "\n"
     ],
     "language": "python",
     "outputs": [],
     "prompt_number": 109
    },
    {
     "cell_type": "code",
     "collapsed": false,
     "input": [
      "x"
     ],
     "language": "python",
     "outputs": [
      {
       "output_type": "pyout",
       "prompt_number": 69,
       "text": [
        "array([ 0.,  0.,  0.,  1.,  0.,  0.,  0.,  1.,  0.,  0.,  1.,  0.,  1.,\n",
        "        0.,  1.,  0.,  1.,  0.,  1.,  0.,  1.,  0.,  1.,  0.,  1.,  0.,\n",
        "        1.,  0.,  1.,  0.,  1.,  0.,  1.,  0.,  1.,  0.,  1.,  0.,  1.,\n",
        "        0.,  1.,  0.,  1.,  0.,  1.,  0.,  1.,  0.,  1.,  0.,  1.,  0.,\n",
        "        1.,  0.,  1.,  0.,  1.,  0.,  1.,  0.,  1.,  0.,  1.,  0.,  1.,\n",
        "        0.,  1.,  0.,  1.,  0.,  1.,  0.,  1.,  0.,  1.,  0.,  1.,  0.,\n",
        "        1.,  0.,  1.,  0.,  1.,  0.,  1.,  0.,  1.,  0.,  1.,  0.,  1.,\n",
        "        0.,  1.,  0.,  1.,  0.,  1.,  0.,  1.,  0.])"
       ]
      }
     ],
     "prompt_number": 69
    },
    {
     "cell_type": "code",
     "collapsed": false,
     "input": [
      " "
     ],
     "language": "python",
     "outputs": []
    }
   ]
  }
 ]
}